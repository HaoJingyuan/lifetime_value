{
 "cells": [
  {
   "cell_type": "code",
   "execution_count": 1,
   "metadata": {},
   "outputs": [],
   "source": [
    "import os\n",
    "import numpy as np\n",
    "import pandas as pd\n",
    "import tqdm\n",
    "import multiprocessing"
   ]
  },
  {
   "cell_type": "markdown",
   "metadata": {},
   "source": [
    "## Load CSV\n"
   ]
  },
  {
   "cell_type": "code",
   "execution_count": 2,
   "metadata": {},
   "outputs": [
    {
     "name": "stderr",
     "output_type": "stream",
     "text": [
      "C:\\Users\\jingyuan.hao\\AppData\\Local\\Temp\\ipykernel_2532\\3814317187.py:2: DtypeWarning: Columns (14) have mixed types. Specify dtype option on import or set low_memory=False.\n",
      "  all_df = pd.read_csv(all_data_filename)\n"
     ]
    },
    {
     "data": {
      "text/plain": [
       "array([20569324, 22513480, 22695317, 24703865, 23274508, 21257968,\n",
       "       26924137, 20386579, 25861704, 21039845, 23246518, 26983102,\n",
       "       24752109, 26329175, 21436295, 26517342, 24612985, 25906712,\n",
       "       22735061, 26102874, 24186950, 28503912, 23056127, 27024591,\n",
       "       25826917, 27268594, 23652817, 28360524, 21095368, 20695487,\n",
       "       27963825, 21457389, 24659730, 26059384, 24819273, 24392865,\n",
       "       24619237, 28704162, 28139057, 24726895, 28624371, 27890145,\n",
       "       23752106, 22581793, 24619308])"
      ]
     },
     "execution_count": 2,
     "metadata": {},
     "output_type": "execute_result"
    }
   ],
   "source": [
    "all_data_filename = r'D:\\github_repo_forked\\lifetime_value\\gravity_data\\gravity_user_data_offline_2471_25126.csv'\n",
    "all_df = pd.read_csv(all_data_filename)\n",
    "all_df['app_id'].unique()"
   ]
  },
  {
   "cell_type": "code",
   "execution_count": 7,
   "metadata": {},
   "outputs": [
    {
     "name": "stdout",
     "output_type": "stream",
     "text": [
      "App IDs with >10000 records: [24619237, 24392865, 23652817, 21257968, 26102874, 26983102, 24659730, 28503912, 27024591, 22513480, 24703865, 26517342]\n",
      "Number of large apps: 12\n"
     ]
    }
   ],
   "source": [
    "app_counts = all_df['app_id'].value_counts()\n",
    "large_apps = app_counts[app_counts > 10000].index.tolist()\n",
    "\n",
    "print(\"App IDs with >10000 records:\", large_apps)\n",
    "print(f\"Number of large apps: {len(large_apps)}\")"
   ]
  },
  {
   "cell_type": "code",
   "execution_count": 8,
   "metadata": {},
   "outputs": [],
   "source": [
    "app_ids= [24619237, 24392865, 23652817, 21257968, 26102874, 26983102, 24659730, 28503912, 27024591, 22513480, 24703865, 26517342]"
   ]
  },
  {
   "cell_type": "code",
   "execution_count": 7,
   "metadata": {},
   "outputs": [],
   "source": [
    "app_id_list_from_event = [\n",
    "    24612985,\n",
    "    25906712,\n",
    "    22695317,\n",
    "    26924137,\n",
    "    26329175,\n",
    "    23246518,\n",
    "    24819273,\n",
    "    23274508,\n",
    "    24619308,\n",
    "    21457389,\n",
    "    28624371,\n",
    "    23752106,\n",
    "    22735061,\n",
    "    21039845,\n",
    "    26059384,\n",
    "    27268594,\n",
    "    21095368,\n",
    "    28139057,\n",
    "    24752109,\n",
    "    24186950,\n",
    "    22581793,\n",
    "    21436295,\n",
    "    20386579,\n",
    "    20569324,\n",
    "    27890145\n",
    "]"
   ]
  },
  {
   "cell_type": "code",
   "execution_count": 8,
   "metadata": {},
   "outputs": [
    {
     "name": "stdout",
     "output_type": "stream",
     "text": [
      "24612985 2672\n",
      "25906712 945\n",
      "22695317 132\n",
      "26924137 304\n",
      "26329175 3\n",
      "23246518 277\n",
      "24819273 195\n",
      "23274508 1\n",
      "24619308 5\n",
      "21457389 50\n",
      "28624371 6\n",
      "23752106 1\n",
      "22735061 2\n",
      "21039845 107\n",
      "26059384 319\n",
      "27268594 94\n",
      "21095368 467\n",
      "28139057 1909\n",
      "24752109 53\n",
      "24186950 4\n",
      "22581793 14\n",
      "21436295 1353\n",
      "20386579 486\n",
      "20569324 4\n",
      "27890145 15\n",
      "[(24612985, np.int64(2672)), (28139057, np.int64(1909)), (21436295, np.int64(1353)), (25906712, np.int64(945)), (20386579, np.int64(486)), (21095368, np.int64(467)), (26059384, np.int64(319)), (26924137, np.int64(304)), (23246518, np.int64(277)), (24819273, np.int64(195)), (22695317, np.int64(132)), (21039845, np.int64(107)), (27268594, np.int64(94)), (24752109, np.int64(53)), (21457389, np.int64(50)), (27890145, np.int64(15)), (22581793, np.int64(14)), (28624371, np.int64(6)), (24619308, np.int64(5)), (24186950, np.int64(4)), (20569324, np.int64(4)), (26329175, np.int64(3)), (22735061, np.int64(2)), (23274508, np.int64(1)), (23752106, np.int64(1))]\n"
     ]
    }
   ],
   "source": [
    "app_from_event_counts_dict = {}\n",
    "app_counts = all_df['app_id'].value_counts()\n",
    "for app in app_id_list_from_event:\n",
    "    print(app, app_counts[app])\n",
    "    app_from_event_counts_dict[app] = app_counts[app]\n",
    "sorted_app_from_event_counts = sorted(app_from_event_counts_dict.items(), key=lambda x: x[1], reverse=True)\n",
    "print(sorted_app_from_event_counts)"
   ]
  },
  {
   "cell_type": "markdown",
   "metadata": {},
   "source": [
    "## 预处理数据"
   ]
  },
  {
   "cell_type": "markdown",
   "metadata": {},
   "source": [
    "### 创建label：adltv+payment>0"
   ]
  },
  {
   "cell_type": "code",
   "execution_count": 14,
   "metadata": {},
   "outputs": [
    {
     "name": "stdout",
     "output_type": "stream",
     "text": [
      "Label distribution:\n",
      "label\n",
      "0    0.688572\n",
      "1    0.311428\n",
      "Name: proportion, dtype: float64\n",
      "\n",
      "Total samples: 471965\n",
      "Valuable customers (label=1): 146983\n",
      "Non-valuable customers (label=0): 324982\n"
     ]
    }
   ],
   "source": [
    "# Create label based on combined value\n",
    "all_df['total_value'] = all_df['user$ad_ltv'].fillna(0) + all_df['user$pay_amount_sum'].fillna(0)\n",
    "all_df['label'] = (all_df['total_value'] > 0).astype(int)\n",
    "\n",
    "# Verify label distribution\n",
    "print(\"Label distribution:\")\n",
    "print(all_df['label'].value_counts(normalize=True))\n",
    "print(\"\\nTotal samples:\", len(all_df))\n",
    "print(\"Valuable customers (label=1):\", all_df['label'].sum())\n",
    "print(\"Non-valuable customers (label=0):\", len(all_df) - all_df['label'].sum())\n",
    "\n",
    "# Drop intermediate column if not needed\n",
    "all_df.drop('total_value', axis=1, inplace=True)"
   ]
  },
  {
   "cell_type": "markdown",
   "metadata": {},
   "source": [
    "### 删除多余的列"
   ]
  },
  {
   "cell_type": "code",
   "execution_count": 15,
   "metadata": {},
   "outputs": [
    {
     "name": "stdout",
     "output_type": "stream",
     "text": [
      "Remaining columns: ['ClientID', 'AdPlatform', 'Channel', 'Version', 'user$brand', 'user$city', 'user$country', 'user$model', 'user$os', 'app_id', 'label']\n",
      "Shape after dropping: (471965, 11)\n"
     ]
    }
   ],
   "source": [
    "# Define features to keep\n",
    "base_features = [\n",
    "    'AdPlatform', \n",
    "    'Channel',\n",
    "    'Version',\n",
    "    'user$brand',\n",
    "    'user$city',\n",
    "    'user$country',\n",
    "    'user$model',\n",
    "    'user$os',\n",
    "    'app_id',\n",
    "    'ClientID'\n",
    "]\n",
    "\n",
    "label_features = [\n",
    "    # 'user$ad_ltv',\n",
    "    # 'user$pay_amount_sum',\n",
    "    'label'\n",
    "]\n",
    "\n",
    "# Keep only selected features\n",
    "features_to_keep = base_features + label_features\n",
    "all_cols = all_df.columns.tolist()\n",
    "cols_to_drop = [col for col in all_cols if col not in features_to_keep]\n",
    "all_df.drop(columns=cols_to_drop, inplace=True)\n",
    "\n",
    "# Verify remaining columns\n",
    "print(\"Remaining columns:\", all_df.columns.tolist())\n",
    "print(\"Shape after dropping:\", all_df.shape)"
   ]
  },
  {
   "cell_type": "markdown",
   "metadata": {},
   "source": [
    "### 处理缺省值"
   ]
  },
  {
   "cell_type": "code",
   "execution_count": 16,
   "metadata": {},
   "outputs": [
    {
     "data": {
      "text/plain": [
       "Index(['ClientID', 'AdPlatform', 'Channel', 'user$brand', 'user$city',\n",
       "       'user$country', 'user$model', 'user$os'],\n",
       "      dtype='object')"
      ]
     },
     "execution_count": 16,
     "metadata": {},
     "output_type": "execute_result"
    }
   ],
   "source": [
    "object_cols = all_df.select_dtypes(include=['object']).columns\n",
    "object_cols"
   ]
  },
  {
   "cell_type": "code",
   "execution_count": 17,
   "metadata": {},
   "outputs": [
    {
     "name": "stdout",
     "output_type": "stream",
     "text": [
      "\n",
      "ClientID unique values after replacement:\n",
      "ClientID\n",
      "812477A5F873444AB5463A6F1B8D4D7Ad7f40217284ca2d5f2a313a70b6e4d46    17\n",
      "6237bad0a036902372576b8be8c2c1bb2e9539e723216d4c1908afccdf8d2ec1    16\n",
      "a16a1d9defb86bef                                                    16\n",
      "0f641e019ccd572a3918c32eae22cdefb6f036af121da3393c753da3b301df3b    16\n",
      "00000000-0000-0000-0000-000000000000                                14\n",
      "Name: count, dtype: int64\n",
      "Null values in ClientID: 0\n",
      "\n",
      "AdPlatform unique values after replacement:\n",
      "AdPlatform\n",
      "0            272738\n",
      "bytedance    196148\n",
      "tencent        1809\n",
      "taptap         1270\n",
      "Name: count, dtype: int64\n",
      "Null values in AdPlatform: 0\n",
      "\n",
      "Channel unique values after replacement:\n",
      "Channel\n",
      "base_channel    316294\n",
      "official         69133\n",
      "taptap           51692\n",
      "3839             18832\n",
      "appstore         12317\n",
      "Name: count, dtype: int64\n",
      "Null values in Channel: 0\n",
      "\n",
      "user$brand unique values after replacement:\n",
      "user$brand\n",
      "HUAWEI    83056\n",
      "HONOR     65817\n",
      "OPPO      58151\n",
      "APPLE     51186\n",
      "VIVO      47362\n",
      "Name: count, dtype: int64\n",
      "Null values in user$brand: 0\n",
      "\n",
      "user$city unique values after replacement:\n",
      "user$city\n",
      "0      38828\n",
      "北京市    17347\n",
      "广州市    12404\n",
      "上海市    12105\n",
      "成都市    11172\n",
      "Name: count, dtype: int64\n",
      "Null values in user$city: 0\n",
      "\n",
      "user$country unique values after replacement:\n",
      "user$country\n",
      "中国      470524\n",
      "美国         444\n",
      "加拿大        160\n",
      "日本         143\n",
      "马来西亚       116\n",
      "Name: count, dtype: int64\n",
      "Null values in user$country: 0\n",
      "\n",
      "user$model unique values after replacement:\n",
      "user$model\n",
      "0         21775\n",
      "HUAWEI    11507\n",
      "HONOR      9938\n",
      "Apple      9269\n",
      "vivo       8162\n",
      "Name: count, dtype: int64\n",
      "Null values in user$model: 0\n",
      "\n",
      "user$os unique values after replacement:\n",
      "user$os\n",
      "android      352144\n",
      "ios           58506\n",
      "harmonyos     26596\n",
      "0             21775\n",
      "iOS           12177\n",
      "Name: count, dtype: int64\n",
      "Null values in user$os: 0\n"
     ]
    }
   ],
   "source": [
    "# Define columns to process\n",
    "cols_to_process =object_cols\n",
    "\n",
    "# Replace nan with '0' in specified columns\n",
    "all_df[cols_to_process] = all_df[cols_to_process].fillna('0')\n",
    "\n",
    "# Verify changes\n",
    "for col in cols_to_process:\n",
    "    print(f\"\\n{col} unique values after replacement:\")\n",
    "    print(all_df[col].value_counts().head())\n",
    "    print(f\"Null values in {col}: {all_df[col].isnull().sum()}\")"
   ]
  },
  {
   "cell_type": "markdown",
   "metadata": {},
   "source": [
    "### 保存每一列的unique值"
   ]
  },
  {
   "cell_type": "code",
   "execution_count": 54,
   "metadata": {},
   "outputs": [
    {
     "name": "stdout",
     "output_type": "stream",
     "text": [
      "Unique values written to unique_values.txt\n"
     ]
    }
   ],
   "source": [
    "# Create output file and write unique values for each object column\n",
    "object_cols = all_df.select_dtypes(include=['object']).columns\n",
    "\n",
    "with open('unique_values.txt', 'w', encoding='utf-8') as f:\n",
    "    for col in object_cols:\n",
    "        if col == 'ClientID':\n",
    "            continue\n",
    "        f.write(f\"\\n{col}\\n\")\n",
    "        f.write(\"=\"*50 + \"\\n\")\n",
    "        unique_vals = all_df[col].unique()\n",
    "        f.write(f\"Count of unique values: {len(unique_vals)}\\n\")\n",
    "        f.write(\"Values:\\n\")\n",
    "        for val in unique_vals:\n",
    "            f.write(f\"{val}\\n\")\n",
    "        f.write(\"-\"*50 + \"\\n\")\n",
    "\n",
    "print(\"Unique values written to unique_values.txt\")"
   ]
  },
  {
   "cell_type": "markdown",
   "metadata": {},
   "source": [
    "### 保存清洗后的总数据"
   ]
  },
  {
   "cell_type": "code",
   "execution_count": 18,
   "metadata": {},
   "outputs": [],
   "source": [
    "all_df.to_csv(r'D:\\github_repo_forked\\lifetime_value\\gravity_data\\cleaned_data.csv', index=False)"
   ]
  },
  {
   "cell_type": "markdown",
   "metadata": {},
   "source": [
    "### 按游戏进行数据区分"
   ]
  },
  {
   "cell_type": "code",
   "execution_count": 27,
   "metadata": {},
   "outputs": [],
   "source": [
    "def load_data(appid,rewrite=False):\n",
    "  all_data_filename = r'D:\\github_repo_forked\\lifetime_value\\gravity_data\\cleaned_data.csv'\n",
    "  one_app_data_filename = (\n",
    "      r'D:\\github_repo_forked\\lifetime_value\\gravity_data\\transactions_app_{}.csv'\n",
    "      .format(appid))\n",
    "  \n",
    "  if os.path.isfile(one_app_data_filename):\n",
    "    if rewrite == False:\n",
    "      df = pd.read_csv(one_app_data_filename)\n",
    "      return df\n",
    "\n",
    "  data_list = []\n",
    "  chunksize = 10**6\n",
    "  # 350 iterations\n",
    "  for chunk in tqdm.tqdm(pd.read_csv(all_data_filename, chunksize=chunksize)):\n",
    "    data_list.append(chunk.query(\"app_id=={}\".format(appid)))\n",
    "  df = pd.concat(data_list, axis=0)\n",
    "  df.to_csv(one_app_data_filename, index=None)\n",
    "  return df"
   ]
  },
  {
   "cell_type": "code",
   "execution_count": 15,
   "metadata": {},
   "outputs": [
    {
     "name": "stderr",
     "output_type": "stream",
     "text": [
      "1it [00:00,  1.95it/s]\n"
     ]
    },
    {
     "name": "stdout",
     "output_type": "stream",
     "text": [
      "App ID: 24619237, Number of records: 97500\n"
     ]
    },
    {
     "name": "stderr",
     "output_type": "stream",
     "text": [
      "1it [00:00,  1.76it/s]\n"
     ]
    },
    {
     "name": "stdout",
     "output_type": "stream",
     "text": [
      "App ID: 24392865, Number of records: 76169\n"
     ]
    },
    {
     "name": "stderr",
     "output_type": "stream",
     "text": [
      "1it [00:00,  1.97it/s]\n"
     ]
    },
    {
     "name": "stdout",
     "output_type": "stream",
     "text": [
      "App ID: 23652817, Number of records: 58600\n"
     ]
    },
    {
     "name": "stderr",
     "output_type": "stream",
     "text": [
      "1it [00:00,  1.88it/s]\n"
     ]
    },
    {
     "name": "stdout",
     "output_type": "stream",
     "text": [
      "App ID: 21257968, Number of records: 48646\n"
     ]
    },
    {
     "name": "stderr",
     "output_type": "stream",
     "text": [
      "1it [00:00,  1.97it/s]\n"
     ]
    },
    {
     "name": "stdout",
     "output_type": "stream",
     "text": [
      "App ID: 26102874, Number of records: 44814\n"
     ]
    },
    {
     "name": "stderr",
     "output_type": "stream",
     "text": [
      "1it [00:00,  1.84it/s]\n"
     ]
    },
    {
     "name": "stdout",
     "output_type": "stream",
     "text": [
      "App ID: 26983102, Number of records: 22972\n"
     ]
    },
    {
     "name": "stderr",
     "output_type": "stream",
     "text": [
      "1it [00:00,  1.91it/s]\n"
     ]
    },
    {
     "name": "stdout",
     "output_type": "stream",
     "text": [
      "App ID: 24659730, Number of records: 17430\n"
     ]
    },
    {
     "name": "stderr",
     "output_type": "stream",
     "text": [
      "1it [00:00,  2.02it/s]\n"
     ]
    },
    {
     "name": "stdout",
     "output_type": "stream",
     "text": [
      "App ID: 28503912, Number of records: 16113\n"
     ]
    },
    {
     "name": "stderr",
     "output_type": "stream",
     "text": [
      "1it [00:00,  1.95it/s]\n"
     ]
    },
    {
     "name": "stdout",
     "output_type": "stream",
     "text": [
      "App ID: 27024591, Number of records: 13875\n"
     ]
    },
    {
     "name": "stderr",
     "output_type": "stream",
     "text": [
      "1it [00:00,  2.00it/s]\n"
     ]
    },
    {
     "name": "stdout",
     "output_type": "stream",
     "text": [
      "App ID: 22513480, Number of records: 13504\n"
     ]
    },
    {
     "name": "stderr",
     "output_type": "stream",
     "text": [
      "1it [00:00,  1.72it/s]\n"
     ]
    },
    {
     "name": "stdout",
     "output_type": "stream",
     "text": [
      "App ID: 24703865, Number of records: 12314\n"
     ]
    },
    {
     "name": "stderr",
     "output_type": "stream",
     "text": [
      "1it [00:00,  1.98it/s]"
     ]
    },
    {
     "name": "stdout",
     "output_type": "stream",
     "text": [
      "App ID: 26517342, Number of records: 11228\n"
     ]
    },
    {
     "name": "stderr",
     "output_type": "stream",
     "text": [
      "\n"
     ]
    }
   ],
   "source": [
    "for appid in app_ids:\n",
    "  df = load_data(str(appid))\n",
    "  print(f\"App ID: {appid}, Number of records: {len(df)}\")"
   ]
  },
  {
   "cell_type": "code",
   "execution_count": 28,
   "metadata": {},
   "outputs": [
    {
     "name": "stderr",
     "output_type": "stream",
     "text": [
      "1it [00:00,  1.19it/s]"
     ]
    },
    {
     "name": "stdout",
     "output_type": "stream",
     "text": [
      "App ID: 24612985, Number of records: 2672\n"
     ]
    },
    {
     "name": "stderr",
     "output_type": "stream",
     "text": [
      "\n"
     ]
    }
   ],
   "source": [
    "d = load_data(str(24612985),True)\n",
    "print(f\"App ID: {24612985}, Number of records: {len(d)}\")"
   ]
  },
  {
   "cell_type": "code",
   "execution_count": 29,
   "metadata": {},
   "outputs": [
    {
     "name": "stdout",
     "output_type": "stream",
     "text": [
      "Label distribution:\n",
      "label\n",
      "0    1.0\n",
      "Name: proportion, dtype: float64\n",
      "\n",
      "Total samples: 2672\n",
      "Valuable customers (label=1): 0\n",
      "Non-valuable customers (label=0): 2672\n"
     ]
    }
   ],
   "source": [
    "df985 = pd.read_csv(r'D:\\github_repo_forked\\lifetime_value\\gravity_data\\transactions_app_24612985.csv')\n",
    "print(\"Label distribution:\")\n",
    "print(df985['label'].value_counts(normalize=True))\n",
    "print(\"\\nTotal samples:\", len(df985))\n",
    "print(\"Valuable customers (label=1):\", df985['label'].sum())\n",
    "print(\"Non-valuable customers (label=0):\", len(df985) - df985['label'].sum())"
   ]
  },
  {
   "cell_type": "code",
   "execution_count": 30,
   "metadata": {},
   "outputs": [
    {
     "data": {
      "text/html": [
       "<div>\n",
       "<style scoped>\n",
       "    .dataframe tbody tr th:only-of-type {\n",
       "        vertical-align: middle;\n",
       "    }\n",
       "\n",
       "    .dataframe tbody tr th {\n",
       "        vertical-align: top;\n",
       "    }\n",
       "\n",
       "    .dataframe thead th {\n",
       "        text-align: right;\n",
       "    }\n",
       "</style>\n",
       "<table border=\"1\" class=\"dataframe\">\n",
       "  <thead>\n",
       "    <tr style=\"text-align: right;\">\n",
       "      <th></th>\n",
       "      <th>ClientID</th>\n",
       "      <th>AdPlatform</th>\n",
       "      <th>Channel</th>\n",
       "      <th>Version</th>\n",
       "      <th>user$brand</th>\n",
       "      <th>user$city</th>\n",
       "      <th>user$country</th>\n",
       "      <th>user$model</th>\n",
       "      <th>user$os</th>\n",
       "      <th>app_id</th>\n",
       "      <th>label</th>\n",
       "    </tr>\n",
       "  </thead>\n",
       "  <tbody>\n",
       "    <tr>\n",
       "      <th>0</th>\n",
       "      <td>_000TGX_GpQOiL-lVjG-9x0du9JSHCgKjXi6</td>\n",
       "      <td>0</td>\n",
       "      <td>base_channel</td>\n",
       "      <td>1</td>\n",
       "      <td>APPLE</td>\n",
       "      <td>上海市</td>\n",
       "      <td>中国</td>\n",
       "      <td>Apple</td>\n",
       "      <td>ios</td>\n",
       "      <td>24612985</td>\n",
       "      <td>0</td>\n",
       "    </tr>\n",
       "    <tr>\n",
       "      <th>1</th>\n",
       "      <td>_000k-aMpnwR3Ff465E7HdKGlRd4rvv_DBre</td>\n",
       "      <td>0</td>\n",
       "      <td>base_channel</td>\n",
       "      <td>1</td>\n",
       "      <td>HUAWEI</td>\n",
       "      <td>本溪</td>\n",
       "      <td>中国</td>\n",
       "      <td>HUAWEI</td>\n",
       "      <td>android</td>\n",
       "      <td>24612985</td>\n",
       "      <td>0</td>\n",
       "    </tr>\n",
       "    <tr>\n",
       "      <th>2</th>\n",
       "      <td>_0002bDdlKXrg20rcV9Bbb_TgWqaIJa7cWiz</td>\n",
       "      <td>0</td>\n",
       "      <td>base_channel</td>\n",
       "      <td>1</td>\n",
       "      <td>XIAOMI</td>\n",
       "      <td>拉萨市</td>\n",
       "      <td>中国</td>\n",
       "      <td>Xiaomi</td>\n",
       "      <td>android</td>\n",
       "      <td>24612985</td>\n",
       "      <td>0</td>\n",
       "    </tr>\n",
       "    <tr>\n",
       "      <th>3</th>\n",
       "      <td>_000r5WSVomolKv4SsED9eaKiRlylQ29Qmws</td>\n",
       "      <td>0</td>\n",
       "      <td>base_channel</td>\n",
       "      <td>1</td>\n",
       "      <td>VIVO</td>\n",
       "      <td>合肥市</td>\n",
       "      <td>中国</td>\n",
       "      <td>vivo</td>\n",
       "      <td>android</td>\n",
       "      <td>24612985</td>\n",
       "      <td>0</td>\n",
       "    </tr>\n",
       "    <tr>\n",
       "      <th>4</th>\n",
       "      <td>_000-vKYOUMdtC4EtYU_bs9hhwgWKpoVItt2</td>\n",
       "      <td>0</td>\n",
       "      <td>base_channel</td>\n",
       "      <td>1</td>\n",
       "      <td>VIVO</td>\n",
       "      <td>乌鲁木齐市</td>\n",
       "      <td>中国</td>\n",
       "      <td>vivo</td>\n",
       "      <td>android</td>\n",
       "      <td>24612985</td>\n",
       "      <td>0</td>\n",
       "    </tr>\n",
       "  </tbody>\n",
       "</table>\n",
       "</div>"
      ],
      "text/plain": [
       "                               ClientID  AdPlatform       Channel  Version  \\\n",
       "0  _000TGX_GpQOiL-lVjG-9x0du9JSHCgKjXi6           0  base_channel        1   \n",
       "1  _000k-aMpnwR3Ff465E7HdKGlRd4rvv_DBre           0  base_channel        1   \n",
       "2  _0002bDdlKXrg20rcV9Bbb_TgWqaIJa7cWiz           0  base_channel        1   \n",
       "3  _000r5WSVomolKv4SsED9eaKiRlylQ29Qmws           0  base_channel        1   \n",
       "4  _000-vKYOUMdtC4EtYU_bs9hhwgWKpoVItt2           0  base_channel        1   \n",
       "\n",
       "  user$brand user$city user$country user$model  user$os    app_id  label  \n",
       "0      APPLE       上海市           中国      Apple      ios  24612985      0  \n",
       "1     HUAWEI        本溪           中国     HUAWEI  android  24612985      0  \n",
       "2     XIAOMI       拉萨市           中国     Xiaomi  android  24612985      0  \n",
       "3       VIVO       合肥市           中国       vivo  android  24612985      0  \n",
       "4       VIVO     乌鲁木齐市           中国       vivo  android  24612985      0  "
      ]
     },
     "execution_count": 30,
     "metadata": {},
     "output_type": "execute_result"
    }
   ],
   "source": [
    "df985.head()"
   ]
  },
  {
   "cell_type": "code",
   "execution_count": 31,
   "metadata": {},
   "outputs": [],
   "source": [
    "df985event = pd.read_csv(r'D:\\github_repo_forked\\lifetime_value\\gravity_data\\985event.csv')"
   ]
  },
  {
   "cell_type": "code",
   "execution_count": 32,
   "metadata": {},
   "outputs": [
    {
     "data": {
      "text/html": [
       "<div>\n",
       "<style scoped>\n",
       "    .dataframe tbody tr th:only-of-type {\n",
       "        vertical-align: middle;\n",
       "    }\n",
       "\n",
       "    .dataframe tbody tr th {\n",
       "        vertical-align: top;\n",
       "    }\n",
       "\n",
       "    .dataframe thead th {\n",
       "        text-align: right;\n",
       "    }\n",
       "</style>\n",
       "<table border=\"1\" class=\"dataframe\">\n",
       "  <thead>\n",
       "    <tr style=\"text-align: right;\">\n",
       "      <th></th>\n",
       "      <th>UUID</th>\n",
       "      <th>event_name</th>\n",
       "      <th>app_id</th>\n",
       "      <th>client_id</th>\n",
       "      <th>ad_id</th>\n",
       "      <th>trigger_count</th>\n",
       "      <th>trigger_date</th>\n",
       "    </tr>\n",
       "  </thead>\n",
       "  <tbody>\n",
       "    <tr>\n",
       "      <th>0</th>\n",
       "      <td>00002308-0b03-4011-b3f1-426cfef9275c</td>\n",
       "      <td>小程序启动.总次数</td>\n",
       "      <td>24612985</td>\n",
       "      <td>_0009XY12nETIiLg7X3CcsnUFht8X22SZtge</td>\n",
       "      <td>NaN</td>\n",
       "      <td>0</td>\n",
       "      <td>8/1/2025 00:00:00</td>\n",
       "    </tr>\n",
       "    <tr>\n",
       "      <th>1</th>\n",
       "      <td>000068ea-9b24-4c33-b0ea-cdd2acd7648a</td>\n",
       "      <td>小程序进入后台.总次数</td>\n",
       "      <td>24612985</td>\n",
       "      <td>_000Vxh7tx3hp5lqzbLKHy3MRWAtek3uVTG-</td>\n",
       "      <td>NaN</td>\n",
       "      <td>0</td>\n",
       "      <td>8/12/2024 00:00:00</td>\n",
       "    </tr>\n",
       "    <tr>\n",
       "      <th>2</th>\n",
       "      <td>00009be8-6d4c-4cc0-90a1-959b1cde4f6d</td>\n",
       "      <td>小程序用户注册.总次数</td>\n",
       "      <td>24612985</td>\n",
       "      <td>_0003CCuAOJvq5D6cFomgivzWKrpyXRs6bXm</td>\n",
       "      <td>NaN</td>\n",
       "      <td>0</td>\n",
       "      <td>18/11/2024 00:00:00</td>\n",
       "    </tr>\n",
       "    <tr>\n",
       "      <th>3</th>\n",
       "      <td>00013bfc-ce1a-4bde-bf4d-832f5320cd50</td>\n",
       "      <td>小程序启动.总次数</td>\n",
       "      <td>24612985</td>\n",
       "      <td>_000-jRIOCT-Du2oV5wYHmarSMcRaj1605NZ</td>\n",
       "      <td>NaN</td>\n",
       "      <td>0</td>\n",
       "      <td>12/12/2024 00:00:00</td>\n",
       "    </tr>\n",
       "    <tr>\n",
       "      <th>4</th>\n",
       "      <td>0005eaed-074b-4eb7-b10c-31777c639638</td>\n",
       "      <td>小程序启动.总次数</td>\n",
       "      <td>24612985</td>\n",
       "      <td>_0008fXaX0kOQe2dOhmG0T908fSspjDsbqL7</td>\n",
       "      <td>NaN</td>\n",
       "      <td>0</td>\n",
       "      <td>17/1/2025 00:00:00</td>\n",
       "    </tr>\n",
       "  </tbody>\n",
       "</table>\n",
       "</div>"
      ],
      "text/plain": [
       "                                   UUID   event_name    app_id  \\\n",
       "0  00002308-0b03-4011-b3f1-426cfef9275c    小程序启动.总次数  24612985   \n",
       "1  000068ea-9b24-4c33-b0ea-cdd2acd7648a  小程序进入后台.总次数  24612985   \n",
       "2  00009be8-6d4c-4cc0-90a1-959b1cde4f6d  小程序用户注册.总次数  24612985   \n",
       "3  00013bfc-ce1a-4bde-bf4d-832f5320cd50    小程序启动.总次数  24612985   \n",
       "4  0005eaed-074b-4eb7-b10c-31777c639638    小程序启动.总次数  24612985   \n",
       "\n",
       "                              client_id  ad_id  trigger_count  \\\n",
       "0  _0009XY12nETIiLg7X3CcsnUFht8X22SZtge    NaN              0   \n",
       "1  _000Vxh7tx3hp5lqzbLKHy3MRWAtek3uVTG-    NaN              0   \n",
       "2  _0003CCuAOJvq5D6cFomgivzWKrpyXRs6bXm    NaN              0   \n",
       "3  _000-jRIOCT-Du2oV5wYHmarSMcRaj1605NZ    NaN              0   \n",
       "4  _0008fXaX0kOQe2dOhmG0T908fSspjDsbqL7    NaN              0   \n",
       "\n",
       "          trigger_date  \n",
       "0    8/1/2025 00:00:00  \n",
       "1   8/12/2024 00:00:00  \n",
       "2  18/11/2024 00:00:00  \n",
       "3  12/12/2024 00:00:00  \n",
       "4   17/1/2025 00:00:00  "
      ]
     },
     "execution_count": 32,
     "metadata": {},
     "output_type": "execute_result"
    }
   ],
   "source": [
    "df985event.head()"
   ]
  },
  {
   "cell_type": "code",
   "execution_count": 36,
   "metadata": {},
   "outputs": [
    {
     "data": {
      "text/plain": [
       "client_id\n",
       "_000tDwjq1I4-RPBEQ3JxNLLbjV_YwH8jXcu    595\n",
       "_000UH_QtrmSH3sTvoGrOgD5522Hr9Lms88C    595\n",
       "_000OrSJtU141bVfgP_cFYYZyPPg9IvZZfCv    595\n",
       "_000FdghHoLzzCdjzBxCK8Z6KJzkeY-JDk0w    595\n",
       "_0002tHH1hN_uwAbzxKObQnttsZs-4V_do7c    595\n",
       "                                       ... \n",
       "_000EdamABkMflHnrUTBSUdigVWDLtY3Akk1    238\n",
       "_0009R-UWpWg8Q4rmjF1il5VDzR7tOqqqZC9    238\n",
       "_000IM-l9G8QIaBEF-l2NBBhJIgN_ejhgkPL    119\n",
       "_000AfnJruqBUpZD99xBfpFgl3L3jUfWGHHX    119\n",
       "_000ExsAZCCXGUu8thod9sZNf5ZMB1HLGJqt    119\n",
       "Name: count, Length: 2794, dtype: int64"
      ]
     },
     "execution_count": 36,
     "metadata": {},
     "output_type": "execute_result"
    }
   ],
   "source": [
    "df985event['client_id'].value_counts()"
   ]
  },
  {
   "cell_type": "code",
   "execution_count": 46,
   "metadata": {},
   "outputs": [
    {
     "name": "stdout",
     "output_type": "stream",
     "text": [
      "                                  ClientID  AdPlatform       Channel  Version  \\\n",
      "0     _000TGX_GpQOiL-lVjG-9x0du9JSHCgKjXi6           0  base_channel        1   \n",
      "1     _000k-aMpnwR3Ff465E7HdKGlRd4rvv_DBre           0  base_channel        1   \n",
      "2     _0002bDdlKXrg20rcV9Bbb_TgWqaIJa7cWiz           0  base_channel        1   \n",
      "3     _000r5WSVomolKv4SsED9eaKiRlylQ29Qmws           0  base_channel        1   \n",
      "4     _000-vKYOUMdtC4EtYU_bs9hhwgWKpoVItt2           0  base_channel        1   \n",
      "...                                    ...         ...           ...      ...   \n",
      "2667  _000hGREA0SHlO__SB4pJDmwmmv9JC-bi4Io           0  base_channel        1   \n",
      "2668  _0005hTykKWoy2-oDdz0loCLX4inGUnPDzvY           0  base_channel        1   \n",
      "2669  _000bx0TQrPXAVJlXE4RuXZGfk13uriHRZuz           0  base_channel        1   \n",
      "2670  _000zOz3uhyaqXRkWTUEKpNQtl1JOkSJEqgU           0  base_channel        1   \n",
      "2671  _000-JRaPRlAo6mpBiNF5essBZBzdiE4adkb           0  base_channel        1   \n",
      "\n",
      "     user$brand user$city user$country user$model  user$os    app_id  ...  \\\n",
      "0         APPLE       上海市           中国      Apple      ios  24612985  ...   \n",
      "1        HUAWEI        本溪           中国     HUAWEI  android  24612985  ...   \n",
      "2        XIAOMI       拉萨市           中国     Xiaomi  android  24612985  ...   \n",
      "3          VIVO       合肥市           中国       vivo  android  24612985  ...   \n",
      "4          VIVO     乌鲁木齐市           中国       vivo  android  24612985  ...   \n",
      "...         ...       ...          ...        ...      ...       ...  ...   \n",
      "2667       VIVO       徐州市           中国       vivo  android  24612985  ...   \n",
      "2668       VIVO       揭阳市           中国       vivo  android  24612985  ...   \n",
      "2669      REDMI       武汉市           中国      Redmi  android  24612985  ...   \n",
      "2670       OPPO       济宁市           中国       OPPO  android  24612985  ...   \n",
      "2671     HUAWEI       杭州市           中国     HUAWEI  android  24612985  ...   \n",
      "\n",
      "      day110 day111 day112 day113 day114 day115 day116 day117 day118 day119  \n",
      "0         []     []     []     []     []     []     []     []     []     []  \n",
      "1         []     []     []     []     []     []     []     []     []     []  \n",
      "2         []     []     []     []     []     []     []     []     []     []  \n",
      "3         []     []     []     []     []     []     []     []     []     []  \n",
      "4         []     []     []     []     []     []     []     []     []     []  \n",
      "...      ...    ...    ...    ...    ...    ...    ...    ...    ...    ...  \n",
      "2667      []     []     []     []     []     []     []     []     []     []  \n",
      "2668      []     []     []     []     []     []     []     []     []     []  \n",
      "2669      []     []     []     []     []     []     []     []     []     []  \n",
      "2670      []     []     []     []     []     []     []     []     []     []  \n",
      "2671      []     []     []     []     []     []     []     []     []     []  \n",
      "\n",
      "[2672 rows x 130 columns]\n"
     ]
    }
   ],
   "source": [
    "# 假设 df985 和 df985event 已经定义\n",
    "# 步骤 1: 确定 trigger_date 有多少天，并按时间先后顺序排成 day1, day2, day3...\n",
    "unique_dates = sorted(df985event['trigger_date'].unique())\n",
    "date_to_day = {date: f'day{i + 1}' for i, date in enumerate(unique_dates)}\n",
    "\n",
    "# 为 df985 增加新列，初始化为空列表\n",
    "for day in date_to_day.values():\n",
    "    df985[day] = [[] for _ in range(len(df985))]\n",
    "\n",
    "# 步骤 2: 根据 df985 中的 clientid 和 day 在 df985event 中进行查询有无事件，如果有，加入到 df985 中\n",
    "for index, row in df985.iterrows():\n",
    "    client_id = row['ClientID']\n",
    "    client_events = df985event[df985event['client_id'] == client_id]\n",
    "    for _, event_row in client_events.iterrows():\n",
    "        trigger_date = event_row['trigger_date']\n",
    "        trigger_count = event_row['trigger_count']\n",
    "        day = date_to_day[trigger_date]\n",
    "        event = event_row['event_name']\n",
    "        # 如果对应位置已经有事件列表，将新事件追加到列表中\n",
    "        if trigger_count > 0:\n",
    "            df985.at[index, day].append(event)\n",
    "\n",
    "print(df985)\n",
    "\n"
   ]
  },
  {
   "cell_type": "code",
   "execution_count": 47,
   "metadata": {},
   "outputs": [
    {
     "data": {
      "text/html": [
       "<div>\n",
       "<style scoped>\n",
       "    .dataframe tbody tr th:only-of-type {\n",
       "        vertical-align: middle;\n",
       "    }\n",
       "\n",
       "    .dataframe tbody tr th {\n",
       "        vertical-align: top;\n",
       "    }\n",
       "\n",
       "    .dataframe thead th {\n",
       "        text-align: right;\n",
       "    }\n",
       "</style>\n",
       "<table border=\"1\" class=\"dataframe\">\n",
       "  <thead>\n",
       "    <tr style=\"text-align: right;\">\n",
       "      <th></th>\n",
       "      <th>ClientID</th>\n",
       "      <th>AdPlatform</th>\n",
       "      <th>Channel</th>\n",
       "      <th>Version</th>\n",
       "      <th>user$brand</th>\n",
       "      <th>user$city</th>\n",
       "      <th>user$country</th>\n",
       "      <th>user$model</th>\n",
       "      <th>user$os</th>\n",
       "      <th>app_id</th>\n",
       "      <th>...</th>\n",
       "      <th>day110</th>\n",
       "      <th>day111</th>\n",
       "      <th>day112</th>\n",
       "      <th>day113</th>\n",
       "      <th>day114</th>\n",
       "      <th>day115</th>\n",
       "      <th>day116</th>\n",
       "      <th>day117</th>\n",
       "      <th>day118</th>\n",
       "      <th>day119</th>\n",
       "    </tr>\n",
       "  </thead>\n",
       "  <tbody>\n",
       "    <tr>\n",
       "      <th>0</th>\n",
       "      <td>_000TGX_GpQOiL-lVjG-9x0du9JSHCgKjXi6</td>\n",
       "      <td>0</td>\n",
       "      <td>base_channel</td>\n",
       "      <td>1</td>\n",
       "      <td>APPLE</td>\n",
       "      <td>上海市</td>\n",
       "      <td>中国</td>\n",
       "      <td>Apple</td>\n",
       "      <td>ios</td>\n",
       "      <td>24612985</td>\n",
       "      <td>...</td>\n",
       "      <td>[]</td>\n",
       "      <td>[]</td>\n",
       "      <td>[]</td>\n",
       "      <td>[]</td>\n",
       "      <td>[]</td>\n",
       "      <td>[]</td>\n",
       "      <td>[]</td>\n",
       "      <td>[]</td>\n",
       "      <td>[]</td>\n",
       "      <td>[]</td>\n",
       "    </tr>\n",
       "    <tr>\n",
       "      <th>1</th>\n",
       "      <td>_000k-aMpnwR3Ff465E7HdKGlRd4rvv_DBre</td>\n",
       "      <td>0</td>\n",
       "      <td>base_channel</td>\n",
       "      <td>1</td>\n",
       "      <td>HUAWEI</td>\n",
       "      <td>本溪</td>\n",
       "      <td>中国</td>\n",
       "      <td>HUAWEI</td>\n",
       "      <td>android</td>\n",
       "      <td>24612985</td>\n",
       "      <td>...</td>\n",
       "      <td>[]</td>\n",
       "      <td>[]</td>\n",
       "      <td>[]</td>\n",
       "      <td>[]</td>\n",
       "      <td>[]</td>\n",
       "      <td>[]</td>\n",
       "      <td>[]</td>\n",
       "      <td>[]</td>\n",
       "      <td>[]</td>\n",
       "      <td>[]</td>\n",
       "    </tr>\n",
       "    <tr>\n",
       "      <th>2</th>\n",
       "      <td>_0002bDdlKXrg20rcV9Bbb_TgWqaIJa7cWiz</td>\n",
       "      <td>0</td>\n",
       "      <td>base_channel</td>\n",
       "      <td>1</td>\n",
       "      <td>XIAOMI</td>\n",
       "      <td>拉萨市</td>\n",
       "      <td>中国</td>\n",
       "      <td>Xiaomi</td>\n",
       "      <td>android</td>\n",
       "      <td>24612985</td>\n",
       "      <td>...</td>\n",
       "      <td>[]</td>\n",
       "      <td>[]</td>\n",
       "      <td>[]</td>\n",
       "      <td>[]</td>\n",
       "      <td>[]</td>\n",
       "      <td>[]</td>\n",
       "      <td>[]</td>\n",
       "      <td>[]</td>\n",
       "      <td>[]</td>\n",
       "      <td>[]</td>\n",
       "    </tr>\n",
       "    <tr>\n",
       "      <th>3</th>\n",
       "      <td>_000r5WSVomolKv4SsED9eaKiRlylQ29Qmws</td>\n",
       "      <td>0</td>\n",
       "      <td>base_channel</td>\n",
       "      <td>1</td>\n",
       "      <td>VIVO</td>\n",
       "      <td>合肥市</td>\n",
       "      <td>中国</td>\n",
       "      <td>vivo</td>\n",
       "      <td>android</td>\n",
       "      <td>24612985</td>\n",
       "      <td>...</td>\n",
       "      <td>[]</td>\n",
       "      <td>[]</td>\n",
       "      <td>[]</td>\n",
       "      <td>[]</td>\n",
       "      <td>[]</td>\n",
       "      <td>[]</td>\n",
       "      <td>[]</td>\n",
       "      <td>[]</td>\n",
       "      <td>[]</td>\n",
       "      <td>[]</td>\n",
       "    </tr>\n",
       "    <tr>\n",
       "      <th>4</th>\n",
       "      <td>_000-vKYOUMdtC4EtYU_bs9hhwgWKpoVItt2</td>\n",
       "      <td>0</td>\n",
       "      <td>base_channel</td>\n",
       "      <td>1</td>\n",
       "      <td>VIVO</td>\n",
       "      <td>乌鲁木齐市</td>\n",
       "      <td>中国</td>\n",
       "      <td>vivo</td>\n",
       "      <td>android</td>\n",
       "      <td>24612985</td>\n",
       "      <td>...</td>\n",
       "      <td>[]</td>\n",
       "      <td>[]</td>\n",
       "      <td>[]</td>\n",
       "      <td>[]</td>\n",
       "      <td>[]</td>\n",
       "      <td>[]</td>\n",
       "      <td>[]</td>\n",
       "      <td>[]</td>\n",
       "      <td>[]</td>\n",
       "      <td>[]</td>\n",
       "    </tr>\n",
       "  </tbody>\n",
       "</table>\n",
       "<p>5 rows × 130 columns</p>\n",
       "</div>"
      ],
      "text/plain": [
       "                               ClientID  AdPlatform       Channel  Version  \\\n",
       "0  _000TGX_GpQOiL-lVjG-9x0du9JSHCgKjXi6           0  base_channel        1   \n",
       "1  _000k-aMpnwR3Ff465E7HdKGlRd4rvv_DBre           0  base_channel        1   \n",
       "2  _0002bDdlKXrg20rcV9Bbb_TgWqaIJa7cWiz           0  base_channel        1   \n",
       "3  _000r5WSVomolKv4SsED9eaKiRlylQ29Qmws           0  base_channel        1   \n",
       "4  _000-vKYOUMdtC4EtYU_bs9hhwgWKpoVItt2           0  base_channel        1   \n",
       "\n",
       "  user$brand user$city user$country user$model  user$os    app_id  ...  \\\n",
       "0      APPLE       上海市           中国      Apple      ios  24612985  ...   \n",
       "1     HUAWEI        本溪           中国     HUAWEI  android  24612985  ...   \n",
       "2     XIAOMI       拉萨市           中国     Xiaomi  android  24612985  ...   \n",
       "3       VIVO       合肥市           中国       vivo  android  24612985  ...   \n",
       "4       VIVO     乌鲁木齐市           中国       vivo  android  24612985  ...   \n",
       "\n",
       "   day110 day111 day112 day113 day114 day115 day116 day117 day118 day119  \n",
       "0      []     []     []     []     []     []     []     []     []     []  \n",
       "1      []     []     []     []     []     []     []     []     []     []  \n",
       "2      []     []     []     []     []     []     []     []     []     []  \n",
       "3      []     []     []     []     []     []     []     []     []     []  \n",
       "4      []     []     []     []     []     []     []     []     []     []  \n",
       "\n",
       "[5 rows x 130 columns]"
      ]
     },
     "execution_count": 47,
     "metadata": {},
     "output_type": "execute_result"
    }
   ],
   "source": [
    "df985.head()"
   ]
  },
  {
   "cell_type": "code",
   "execution_count": 45,
   "metadata": {},
   "outputs": [
    {
     "data": {
      "text/plain": [
       "trigger_count\n",
       "0     1123626\n",
       "1       10326\n",
       "2        1151\n",
       "3         406\n",
       "4         142\n",
       "5          81\n",
       "6          36\n",
       "7          16\n",
       "8          15\n",
       "9          15\n",
       "12         10\n",
       "10          8\n",
       "11          5\n",
       "15          4\n",
       "13          3\n",
       "16          2\n",
       "14          2\n",
       "31          1\n",
       "18          1\n",
       "20          1\n",
       "23          1\n",
       "17          1\n",
       "27          1\n",
       "30          1\n",
       "Name: count, dtype: int64"
      ]
     },
     "execution_count": 45,
     "metadata": {},
     "output_type": "execute_result"
    }
   ],
   "source": [
    "df985event['trigger_count'].value_counts()"
   ]
  },
  {
   "cell_type": "code",
   "execution_count": 48,
   "metadata": {},
   "outputs": [],
   "source": [
    "df985.to_csv(r'D:\\github_repo_forked\\lifetime_value\\gravity_data\\985_with_events.csv', index=False)"
   ]
  },
  {
   "cell_type": "code",
   "execution_count": 49,
   "metadata": {},
   "outputs": [
    {
     "name": "stderr",
     "output_type": "stream",
     "text": [
      "C:\\Users\\jingyuan.hao\\AppData\\Local\\Temp\\ipykernel_2532\\4049848784.py:9: FutureWarning: DataFrame.applymap has been deprecated. Use DataFrame.map instead.\n",
      "  heatmap_data = df985[day_columns].applymap(len)\n"
     ]
    },
    {
     "data": {
      "image/png": "[encoded data removed]",
      "text/plain": [
       "<Figure size 1000x600 with 2 Axes>"
      ]
     },
     "metadata": {},
     "output_type": "display_data"
    }
   ],
   "source": [
    "import pandas as pd\n",
    "import seaborn as sns\n",
    "import matplotlib.pyplot as plt\n",
    "\n",
    "# 假设 df985 已经包含了 day1, day2 等列\n",
    "day_columns = [col for col in df985.columns if col.startswith('day')]\n",
    "\n",
    "# 计算每个用户在每天的事件数量\n",
    "heatmap_data = df985[day_columns].applymap(len)\n",
    "\n",
    "# 绘制热力图\n",
    "plt.figure(figsize=(10, 6))\n",
    "sns.heatmap(heatmap_data, cmap='YlGnBu')\n",
    "plt.title('User Event Distribution Heatmap')\n",
    "plt.xlabel('Day')\n",
    "plt.ylabel('User Index')\n",
    "plt.show()\n"
   ]
  },
  {
   "cell_type": "code",
   "execution_count": 51,
   "metadata": {},
   "outputs": [
    {
     "data": {
      "text/plain": [
       "<Figure size 1000x600 with 0 Axes>"
      ]
     },
     "metadata": {},
     "output_type": "display_data"
    },
    {
     "data": {
      "image/png": "[encoded data removed]",
      "text/plain": [
       "<Figure size 640x480 with 1 Axes>"
      ]
     },
     "metadata": {},
     "output_type": "display_data"
    }
   ],
   "source": [
    "import pandas as pd\n",
    "import matplotlib.pyplot as plt\n",
    "\n",
    "# 假设 df985 已经包含了 day1, day2 等列\n",
    "day_columns = [col for col in df985.columns if col.startswith('day')]\n",
    "\n",
    "# 统计每天的事件总数\n",
    "event_counts = {}\n",
    "for day in day_columns:\n",
    "    total_events = sum([len(events) for events in df985[day]])\n",
    "    event_counts[day] = total_events\n",
    "\n",
    "# 转换为 DataFrame 方便绘图\n",
    "count_df = pd.DataFrame.from_dict(event_counts, orient='index', columns=['Event Count'])\n",
    "\n",
    "# 绘制柱状图\n",
    "plt.figure(figsize=(10, 6))\n",
    "count_df.plot(kind='bar')\n",
    "plt.title('Distribution of Events per Day')\n",
    "plt.xlabel('Day')\n",
    "plt.ylabel('Number of Events')\n",
    "plt.xticks(rotation=45)\n",
    "plt.show()\n",
    "\n"
   ]
  }
 ],
 "metadata": {
  "kernelspec": {
   "display_name": "ziln",
   "language": "python",
   "name": "python3"
  },
  "language_info": {
   "codemirror_mode": {
    "name": "ipython",
    "version": 3
   },
   "file_extension": ".py",
   "mimetype": "text/x-python",
   "name": "python",
   "nbconvert_exporter": "python",
   "pygments_lexer": "ipython3",
   "version": "3.10.16"
  }
 },
 "nbformat": 4,
 "nbformat_minor": 2
}
