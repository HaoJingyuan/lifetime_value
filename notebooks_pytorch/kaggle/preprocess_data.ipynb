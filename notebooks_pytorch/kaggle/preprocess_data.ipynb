{
  "cells": [
    {
      "cell_type": "code",
      "execution_count": null,
      "metadata": {
        "id": "s2VGz60wbOiq"
      },
      "outputs": [],
      "source": [
        "#@title Copyright 2019 The Lifetime Value Authors.\n",
        "# Licensed under the Apache License, Version 2.0 (the \"License\");\n",
        "# you may not use this file except in compliance with the License.\n",
        "# You may obtain a copy of the License at\n",
        "#\n",
        "#     https://www.apache.org/licenses/LICENSE-2.0\n",
        "#\n",
        "# Unless required by applicable law or agreed to in writing, software\n",
        "# distributed under the License is distributed on an \"AS IS\" BASIS,\n",
        "# WITHOUT WARRANTIES OR CONDITIONS OF ANY KIND, either express or implied.\n",
        "# See the License for the specific language governing permissions and\n",
        "# limitations under the License.\n",
        "# ============================================================================"
      ]
    },
    {
      "cell_type": "code",
      "execution_count": null,
      "metadata": {},
      "outputs": [],
      "source": []
    },
    {
      "cell_type": "markdown",
      "metadata": {
        "id": "eBoqlan65Q9T"
      },
      "source": [
        "<table align=\"left\">\n",
        "  <td>\n",
        "    <a target=\"_blank\" href=\"https://colab.research.google.com/github/google/lifetime_value/blob/master/notebooks/kaggle_acquire_valued_shoppers_challenge/preprocess_data.ipynb\"><img src=\"https://www.tensorflow.org/images/colab_logo_32px.png\" />Run in Google Colab</a>\n",
        "  </td>\n",
        "  <td>\n",
        "    <a target=\"_blank\" href=\"https://github.com/google/lifetime_value/blob/master/notebooks/kaggle_acquire_valued_shoppers_challenge/preprocess_data.ipynb\"><img src=\"https://www.tensorflow.org/images/GitHub-Mark-32px.png\" />View source on GitHub</a>\n",
        "  </td>\n",
        "</table>"
      ]
    },
    {
      "cell_type": "code",
      "execution_count": null,
      "metadata": {},
      "outputs": [],
      "source": []
    },
    {
      "cell_type": "code",
      "execution_count": 2,
      "metadata": {
        "id": "KObdQwyXH2mC"
      },
      "outputs": [],
      "source": [
        "from __future__ import absolute_import\n",
        "from __future__ import division\n",
        "from __future__ import print_function\n",
        "\n",
        "\n",
        "import os\n",
        "import numpy as np\n",
        "import pandas as pd\n",
        "import tqdm\n",
        "import multiprocessing"
      ]
    },
    {
      "cell_type": "code",
      "execution_count": 3,
      "metadata": {
        "id": "K41RmAfNXtu_"
      },
      "outputs": [],
      "source": [
        "pd.options.mode.chained_assignment = None  # default='warn'"
      ]
    },
    {
      "cell_type": "markdown",
      "metadata": {
        "id": "DoN-PRvNuIti"
      },
      "source": [
        "## Global variables"
      ]
    },
    {
      "cell_type": "code",
      "execution_count": 4,
      "metadata": {
        "id": "3GGpDbxd3S5L"
      },
      "outputs": [],
      "source": [
        "COMPANYS = [\n",
        "    '10000', '101200010', '101410010', '101600010', '102100020', '102700020',\n",
        "    '102840020', '103000030', '103338333', '103400030', '103600030',\n",
        "    '103700030', '103800030', '104300040', '104400040', '104470040',\n",
        "    '104900040', '105100050', '105150050', '107800070'\n",
        "]"
      ]
    },
    {
      "cell_type": "markdown",
      "metadata": {
        "id": "RzTaK6fFXMWT"
      },
      "source": [
        "## Data"
      ]
    },
    {
      "cell_type": "markdown",
      "metadata": {
        "id": "SFi0JMPu138h"
      },
      "source": [
        "### Download data"
      ]
    },
    {
      "cell_type": "markdown",
      "metadata": {
        "id": "krXMbrkVNtdN"
      },
      "source": [
        "Setup kaggle API correctly following https://www.kaggle.com/docs/api\n",
        "```\n",
        "%%shell\n",
        "mkdir ~/.kaggle\n",
        "echo \\{\\\"username\\\":\\\"{your kaggle username}\\\",\\\"key\\\":\\\"{your kaggle api key}\\\"\\} > ~/.kaggle/kaggle.json\n",
        "pip install kaggle\n",
        "```"
      ]
    },
    {
      "cell_type": "code",
      "execution_count": null,
      "metadata": {
        "id": "0gf4ipd-14x0"
      },
      "outputs": [],
      "source": [
        "%%shell\n",
        "if [ -e /tmp/lifetime-value/acquire-valued-shoppers-challenge/transactions.csv ]\n",
        "then\n",
        "  echo \"File already exists, no need to download.\"\n",
        "else\n",
        "  rm -rf /tmp/lifetime-value/acquire-valued-shoppers-challenge\n",
        "  mkdir -p /tmp/lifetime-value/acquire-valued-shoppers-challenge\n",
        "  cd /tmp/lifetime-value/acquire-valued-shoppers-challenge\n",
        "  kaggle competitions download -c acquire-valued-shoppers-challenge\n",
        "  echo \"Unzip file. This may take 10 min.\"\n",
        "  gunzip transactions.csv.gz\n",
        "fi"
      ]
    },
    {
      "cell_type": "markdown",
      "metadata": {
        "id": "IT53azGsa2a2"
      },
      "source": [
        "### Load csv"
      ]
    },
    {
      "cell_type": "code",
      "execution_count": 5,
      "metadata": {
        "id": "5tIMvE3dW1Ky"
      },
      "outputs": [],
      "source": [
        "def load_data(company):\n",
        "  all_data_filename = r'D:\\github_repo_forked\\lifetime_value\\acquire-valued-shoppers-challenge\\transactions.csv\\transactions.csv'\n",
        "  one_company_data_filename = (\n",
        "      r'D:\\github_repo_forked\\lifetime_value\\acquire-valued-shoppers-challenge\\transactions_company_{}.csv'\n",
        "      .format(company))\n",
        "  if os.path.isfile(one_company_data_filename):\n",
        "    df = pd.read_csv(one_company_data_filename)\n",
        "  else:\n",
        "    data_list = []\n",
        "    chunksize = 10**6\n",
        "    # 350 iterations\n",
        "    for chunk in tqdm.tqdm(pd.read_csv(all_data_filename, chunksize=chunksize)):\n",
        "      data_list.append(chunk.query(\"company=='{}'\".format(company)))\n",
        "    df = pd.concat(data_list, axis=0)\n",
        "    df.to_csv(one_company_data_filename, index=None)\n",
        "  return df"
      ]
    },
    {
      "cell_type": "markdown",
      "metadata": {
        "id": "9ra4bfwCVwKn"
      },
      "source": [
        "### Preprocess data"
      ]
    },
    {
      "cell_type": "code",
      "execution_count": 7,
      "metadata": {
        "id": "PlJl5g9Delmi"
      },
      "outputs": [],
      "source": [
        "def preprocess(df):\n",
        "  df = df.query('purchaseamount>0')\n",
        "  df['date'] = pd.to_datetime(df['date'], format='%Y-%m-%d')\n",
        "  df['start_date'] = df.groupby('id')['date'].transform('min')\n",
        "\n",
        "  # Compute calibration values\n",
        "  calibration_value = (\n",
        "      df.query('date==start_date').groupby('id')\n",
        "      ['purchaseamount'].sum().reset_index())\n",
        "  calibration_value.columns = ['id', 'calibration_value']\n",
        "\n",
        "  # Compute holdout values\n",
        "  one_year_holdout_window_mask = (\n",
        "      (df['date'] > df['start_date']) &\n",
        "      (df['date'] <= df['start_date'] + np.timedelta64(365, 'D')))\n",
        "  holdout_value = (\n",
        "      df[one_year_holdout_window_mask].groupby('id')\n",
        "      ['purchaseamount'].sum().reset_index())\n",
        "  holdout_value.columns = ['id', 'holdout_value']\n",
        "\n",
        "  # Compute calibration attributes\n",
        "  calibration_attributes = (\n",
        "      df.query('date==start_date').sort_values(\n",
        "          'purchaseamount', ascending=False).groupby('id')[[\n",
        "              'chain', 'dept', 'category', 'brand', 'productmeasure'\n",
        "          ]].first().reset_index())\n",
        "\n",
        "  # Merge dataframes\n",
        "  customer_level_data = (\n",
        "      calibration_value.merge(calibration_attributes, how='left',\n",
        "                              on='id').merge(\n",
        "                                  holdout_value, how='left', on='id'))\n",
        "  customer_level_data['holdout_value'] = (\n",
        "      customer_level_data['holdout_value'].fillna(0.))\n",
        "  categorical_features = ([\n",
        "      'chain', 'dept', 'category', 'brand', 'productmeasure'\n",
        "  ])\n",
        "  customer_level_data[categorical_features] = (\n",
        "      customer_level_data[categorical_features].fillna('UNKNOWN'))\n",
        "\n",
        "  # Specify data types\n",
        "  customer_level_data['log_calibration_value'] = (\n",
        "      np.log(customer_level_data['calibration_value']).astype('float32'))\n",
        "  customer_level_data['chain'] = (\n",
        "      customer_level_data['chain'].astype('category'))\n",
        "  customer_level_data['dept'] = (customer_level_data['dept'].astype('category'))\n",
        "  customer_level_data['brand'] = (\n",
        "      customer_level_data['brand'].astype('category'))\n",
        "  customer_level_data['category'] = (\n",
        "      customer_level_data['category'].astype('category'))\n",
        "  customer_level_data['label'] = (\n",
        "      customer_level_data['holdout_value'].astype('float32'))\n",
        "  return customer_level_data"
      ]
    },
    {
      "cell_type": "code",
      "execution_count": 8,
      "metadata": {
        "id": "Bx80J6Ztferj"
      },
      "outputs": [],
      "source": [
        "def process(company):\n",
        "  print(\"Process company {}\".format(company))\n",
        "  transaction_level_data = load_data(company)\n",
        "  customer_level_data = preprocess(transaction_level_data)\n",
        "  customer_level_data_file = (\n",
        "      r'D:\\github_repo_forked\\lifetime_value\\acquire-valued-shoppers-challenge\\customer_level_data_company_{}.csv'\n",
        "      .format(company))\n",
        "  customer_level_data.to_csv(customer_level_data_file, index=None)\n",
        "  print(\"Done company {}\".format(company))"
      ]
    },
    {
      "cell_type": "markdown",
      "metadata": {
        "id": "Q05sKVnxi8mV"
      },
      "source": [
        "This step may take a while to finish -- 10min-1hr depending on number of core in\n",
        "the computer."
      ]
    },
    {
      "cell_type": "code",
      "execution_count": 1,
      "metadata": {
        "id": "88dVPdt5QWpu"
      },
      "outputs": [
        {
          "name": "stdout",
          "output_type": "stream",
          "text": [
            "cpu count 12\n"
          ]
        }
      ],
      "source": [
        "print(\"cpu count\",multiprocessing.cpu_count())\n",
        "p = multiprocessing.Pool(multiprocessing.cpu_count())\n",
        "_ = p.map(process, COMPANYS)"
      ]
    },
    {
      "cell_type": "code",
      "execution_count": 3,
      "metadata": {},
      "outputs": [
        {
          "name": "stdout",
          "output_type": "stream",
          "text": [
            "[    10000 101200010 101410010 101600010 102100020 102700020 102840020\n",
            " 103000030 103338333 103400030 103600030 103700030 103800030 104300040\n",
            " 104400040 104470040 104900040 105100050 105150050 107800070]\n"
          ]
        }
      ],
      "source": [
        "import numpy as np\n",
        "COMPANYS = [\n",
        "    '10000', '101200010', '101410010', '101600010', '102100020', '102700020',\n",
        "    '102840020', '103000030', '103338333', '103400030', '103600030',\n",
        "    '103700030', '103800030', '104300040', '104400040', '104470040',\n",
        "    '104900040', '105100050', '105150050', '107800070'\n",
        "]\n",
        "COMPANYS = np.array(COMPANYS, dtype=np.int64)\n",
        "print(COMPANYS)"
      ]
    }
  ],
  "metadata": {
    "colab": {
      "collapsed_sections": [],
      "last_runtime": {
        "build_target": "",
        "kind": "local"
      },
      "name": "preprocess_data.ipynb",
      "provenance": []
    },
    "kernelspec": {
      "display_name": "ziln",
      "language": "python",
      "name": "python3"
    },
    "language_info": {
      "codemirror_mode": {
        "name": "ipython",
        "version": 3
      },
      "file_extension": ".py",
      "mimetype": "text/x-python",
      "name": "python",
      "nbconvert_exporter": "python",
      "pygments_lexer": "ipython3",
      "version": "3.10.16"
    }
  },
  "nbformat": 4,
  "nbformat_minor": 0
}
